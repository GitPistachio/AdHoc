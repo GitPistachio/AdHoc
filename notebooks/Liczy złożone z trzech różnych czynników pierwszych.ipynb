{
 "cells": [
  {
   "cell_type": "markdown",
   "metadata": {},
   "source": [
    "<font color='gray'>*Content provided under a Creative Commons Attribution license, CC-BY 4.0; code under a BSD-3-Clause License  \n",
    "@ 2020 GitPistachio*\n",
    "</font>"
   ]
  },
  {
   "cell_type": "markdown",
   "metadata": {},
   "source": [
    "<h1><center>Liczby złożone z trzech różnych czynników pierwszych</center></h1>"
   ]
  },
  {
   "cell_type": "markdown",
   "metadata": {},
   "source": [
    "<h2> Problem </h2>\n",
    "\n",
    "<strong>Napisz program, który do pliku wyniki.txt wypisuje te liczby z pliku liczby.txt, w których rozkładzie na czynniki pierwsze występują dokładnie trzy różne czynniki pierwsze różne od 2. W pliku liczby.txt znajduje się 1000 różnych liczb o długości od 2 do 9 cyfr, po jednej w każdym wierszu.</strong>\n",
    "\n",
    "Zanim przejdę do rozwiązania problemu. Zacznę od przypomnienia kilku podstawowych definicji. <em>Liczbą pierwszą </em> nazywamy dowloną liczbę naturalną większą od 1, która ma dokładnie dwa dzielniki: samą siebie i jedynkę. Kilka początkowych liczb pierwszych to 2, 3, 5, 7, 11, 13 itd. (patrz ciąg [A000040](https://oeis.org/A000040)). Każdą liczbę naturalną większą od 1 niebędącą liczbą pierwszą nazywamy <em>liczbą złożoną</em>. Zaś rozkład liczby naturalnej większej od 1 na czynniki pierwsze polega na jej zapisaniu jako iloczynu liczb pierwszych, np. $36 = 2^2\\cdot3^2$. Program będzie składał się z trzech części: wczytania danych, sprawdzenia liczba po liczbie czy spełnia warunki zadania i następnie zapisania jej do pliku wyjściowego. Sprawdzenie czy w rozkładzie liczby występują dokładnie trzy czynniki różne do dwa będę robił w funkcji ```czySpelniaWarunekZadania```, która zwraca wartość ```True``` jeżeli spełnia warunek zadania a ```False``` jeżeli nie. Na razie założę, że tę funkcję po prostu mam, później zajmę się napisaniem jej treści. W treści zadania nie jest jasno napisane czy w rozkładzie liczby na czynniki pierwsze czynnik pierwszy może występować wielokrotnie, wobec tego dodam drugi parametr do funkcji o nazwie czy_wielokrotnosci, który będzie przyjmować wartości True lub False. Poniżej przedstawiam przykładowy program."
   ]
  },
  {
   "cell_type": "code",
   "execution_count": 1,
   "metadata": {},
   "outputs": [],
   "source": [
    "def czySpelniaWarunekZadania(n, czy_wielokrotnosci):\n",
    "    pass # do uzupełnienia później\n",
    "\n",
    "\n",
    "plik_liczby = open(\"data/liczby.txt\", \"r\") # otwiera plik liczby w trybie do odczytu\n",
    "plik_wyniki = open(\"data/wyniki.txt\", \"w\") # otwiera plik wyniki w trybie do zapisu\n",
    "\n",
    "liczby = plik_liczby.readlines() # odczytuje liczby z pliku i zapsuje je do listy jako zmienne tekstowe\n",
    "for liczba in liczby:\n",
    "    n = int(liczba) # konwertuje wartość liczba na zmienną typu int\n",
    "    if czySpelniaWarunekZadania(n, True):\n",
    "        plik_wyniki.write(\"{}\\n\".format(n)) # zapisuje liczbę do pliku wyniki oraz dodaje nową linię\n",
    "\n",
    "plik_wyniki.close() # zamyka plik wyniki\n",
    "plik_liczby.close() # zamyka plik liczby"
   ]
  },
  {
   "cell_type": "markdown",
   "metadata": {},
   "source": [
    " Alogrytm sprawdzający warunek zadania będzie następujący:\n",
    "- sprawdzamy czy n dzieli się przez 2, jeżeli tak zwracamy False, jeżeli nie inicjalizujemy zerem licznik czynników pierwszych,\n",
    "- sprawdzamy dla kolejnej liczby pierwszej p czy n jest przez nią podzielne, jeżeli tak oraz\n",
    "    - licznik czynników pierwszych wynosi co najmniej trzy, zwróć False,\n",
    "    - parametetr czy_wielokrotne = False i n jest podzielne przez kwadrat p, zwróć False,\n",
    "    - zwiększ licznik czynników pierwszych o 1,\n",
    "- powtórz krok drugi, dopuki p\\*p <= n\n",
    "- jeżeli licznik czynników pierwszych wskazuje na trzy zwróć True w przeciwnym przypadku zwróć False.\n",
    "\n",
    "Sam algorytm jest dość prosty, drobnym problemem jest krok drugi, gdzie musimy znać kolejne liczby pierwsze. Do tego celu posłużę się jednym z najprostrzych i zarazem dość efektywnym algorytmem do generowania liczb pierwszych, którym jest [sito Eratostenesa](https://pl.wikipedia.org/wiki/Sito_Eratostenesa). Poniżej podaję podstawową implementację sita Eratostenesa."
   ]
  },
  {
   "cell_type": "code",
   "execution_count": 2,
   "metadata": {
    "scrolled": true
   },
   "outputs": [
    {
     "name": "stdout",
     "output_type": "stream",
     "text": [
      "[2, 3, 5, 7]\n"
     ]
    }
   ],
   "source": [
    "from math import sqrt\n",
    "\n",
    "def wygeneruj_liczby_pierwsze(n):\n",
    "    \"\"\"Generuję posortowaną listę liczb pierwszych, nie większych niż maksymalny dzielnik liczby n.\n",
    "\n",
    "    Args:\n",
    "        n (int): Liczba naturalna większa od 1.\n",
    "\n",
    "    Returns:\n",
    "        list: posortowana lista liczb pierwszych, nie większych niż maksymalny dzielnik liczby n.\n",
    "    \n",
    "    \"\"\"\n",
    "    \n",
    "    P = [] # lista liczb pierwszych \n",
    "    max_p = int(sqrt(n)) # maksymalna potencjalna liczba pierwsza jaka może być dzielnikiem n\n",
    "    A = [True for _ in range(max_p + 1)] # lista typów logicznych\n",
    "    A[0], A[1] = False, False # 0, 1 nie są liczbami pierwszymi\n",
    "\n",
    "    for i in range(2, max_p + 1):\n",
    "        if A[i]:\n",
    "            P.append(i)\n",
    "            j = 2*i\n",
    "            while j <= max_p: # oznacza wszystkie wielokrotności jako liczby złożone\n",
    "                A[j] = False \n",
    "                j += i\n",
    "    \n",
    "    return P  \n",
    "        \n",
    "print(wygeneruj_liczby_pierwsze(100))"
   ]
  },
  {
   "cell_type": "markdown",
   "metadata": {},
   "source": [
    "W zadaniu jest podane, że n mam maksymalnie 9 cyfr wobec tego maksymalną liczbą w pliku jest 999999999 i dla tej liczby wygeneruję listę liczb pierwszych, gdyż będzie zawierała wszystkie możliwe liczby pierwsze, które moga być dzielnikami liczb z pliku liczby. Poniżej podaję imlementację funkcji ```czySpelniaWarunekZadania```."
   ]
  },
  {
   "cell_type": "code",
   "execution_count": 3,
   "metadata": {},
   "outputs": [
    {
     "name": "stdout",
     "output_type": "stream",
     "text": [
      "Czy 36 spełnia warunek zadania? False\n",
      "Czy 825 spełnia warunek zadania? True\n",
      "Czy 825 spełnia warunek zadania, gdy czynniki nie mogą być wielokrotne? False\n"
     ]
    }
   ],
   "source": [
    "MAX_N = 999999999 # maksymalna wartość n\n",
    "P = wygeneruj_liczby_pierwsze(MAX_N)\n",
    "\n",
    "def czySpelniaWarunekZadania(n, czy_wielokrotnosci):\n",
    "    \"\"\"Sprawdza czy w rozkładzie na czynniki pierwsze liczby n występuja dokładnie \n",
    "       trzy różne czynniki pierwsze różne od 2.\n",
    "\n",
    "    Args:\n",
    "        n (int): Liczba naturalna większa od 1.\n",
    "        czy_wielokrotnosci (bool): True jeżeli mogą wysąpić wielokrotności dane czynnika pierwszego, False\n",
    "                                   w przeciwnym przypadku\n",
    "\n",
    "    Returns:\n",
    "        bool: True jeżeli w rozkładzie na czynniki pierwsze liczby n wstępują dokładnie trzy\n",
    "              różne czynniki pierwsze różne od 2, False w przeciwnym przypadku.\n",
    "    \n",
    "    \"\"\"\n",
    "    global P\n",
    "\n",
    "    if n % 2 == 0: # sprawdza czy n dzieli się przez 2 za pomocą dzielenia modulo\n",
    "        return False # zwraca False gdyż liczba n nie może mieć 2 jako czynnik pierwszy\n",
    "\n",
    "    licznik_czynnikow_pierwszych = 0\n",
    "    \n",
    "    for p in P[1:]:\n",
    "        if p*p > n:\n",
    "            break\n",
    "        \n",
    "        if n % p == 0: # sprawdza czy n jest podzielne przez p\n",
    "            if licznik_czynnikow_pierwszych >= 3:\n",
    "                return False\n",
    "            \n",
    "            if czy_wielokrotnosci == False and (n % (p*p)) == 0:\n",
    "                return False\n",
    "            \n",
    "            licznik_czynnikow_pierwszych += 1\n",
    "            \n",
    "    \n",
    "    if licznik_czynnikow_pierwszych == 3:\n",
    "        return True\n",
    "    else:\n",
    "        return False\n",
    "\n",
    "print(\"Czy {} spełnia warunek zadania? {}\".format(36, czySpelniaWarunekZadania(36, True)))\n",
    "print(\"Czy {} spełnia warunek zadania? {}\".format(825, czySpelniaWarunekZadania(825, True)))\n",
    "print(\"Czy {} spełnia warunek zadania, gdy czynniki nie mogą być wielokrotne? {}\".format(825, czySpelniaWarunekZadania(825, False)))"
   ]
  },
  {
   "cell_type": "markdown",
   "metadata": {},
   "source": [
    "Poniżej przedstawiam jeszcze cały kod łącznie."
   ]
  },
  {
   "cell_type": "code",
   "execution_count": 4,
   "metadata": {},
   "outputs": [],
   "source": [
    "from math import sqrt\n",
    "\n",
    "def wygeneruj_liczby_pierwsze(n):\n",
    "    \"\"\"Generuję posortowaną listę liczb pierwszych, nie większych niż maksymalny dzielnik liczby n.\n",
    "\n",
    "    Args:\n",
    "        n (int): Liczba naturalna większa od 1.\n",
    "\n",
    "    Returns:\n",
    "        list: posortowana lista liczb pierwszych, nie większych niż maksymalny dzielnik liczby n.\n",
    "    \n",
    "    \"\"\"\n",
    "    \n",
    "    P = [] # lista liczb pierwszych \n",
    "    max_p = int(sqrt(n)) # maksymalna potencjalna liczba pierwsza jaka może być dzielnikiem n\n",
    "    A = [True for _ in range(max_p + 1)] # lista typów logicznych\n",
    "    A[0], A[1] = False, False # 0, 1 nie są liczbami pierwszymi\n",
    "\n",
    "    for i in range(2, max_p + 1):\n",
    "        if A[i]:\n",
    "            P.append(i)\n",
    "            j = 2*i\n",
    "            while j <= max_p: # oznacza wszystkie wielokrotności jako liczby złożone\n",
    "                A[j] = False \n",
    "                j += i\n",
    "    \n",
    "    return P  \n",
    "        \n",
    "\n",
    "MAX_N = 999999999 # maksymalna wartość n\n",
    "P = wygeneruj_liczby_pierwsze(MAX_N)\n",
    "\n",
    "def czySpelniaWarunekZadania(n, czy_wielokrotnosci):\n",
    "    \"\"\"Sprawdza czy w rozkładzie na czynniki pierwsze liczby n występuja dokładnie \n",
    "       trzy różne czynniki pierwsze różne od 2.\n",
    "\n",
    "    Args:\n",
    "        n (int): Liczba naturalna większa od 1.\n",
    "        czy_wielokrotnosci (bool): True jeżeli mogą wysąpić wielokrotności dane czynnika pierwszego, False\n",
    "                                   w przeciwnym przypadku\n",
    "\n",
    "    Returns:\n",
    "        bool: True jeżeli w rozkładzie na czynniki pierwsze liczby n wstępują dokładnie trzy\n",
    "              różne czynniki pierwsze różne od 2, False w przeciwnym przypadku.\n",
    "    \n",
    "    \"\"\"\n",
    "    global P\n",
    "\n",
    "    if n % 2 == 0: # sprawdza czy n dzieli się przez 2 za pomocą dzielenia modulo\n",
    "        return False # zwraca False gdyż liczba n nie może mieć 2 jako czynnik pierwszy\n",
    "\n",
    "    licznik_czynnikow_pierwszych = 0\n",
    "    \n",
    "    for p in P[1:]:\n",
    "        if p*p > n:\n",
    "            break\n",
    "        \n",
    "        if n % p == 0: # sprawdza czy n jest podzielne przez p\n",
    "            if licznik_czynnikow_pierwszych >= 3:\n",
    "                return False\n",
    "            \n",
    "            if czy_wielokrotnosci == False and (n % (p*p)) == 0:\n",
    "                return False\n",
    "            \n",
    "            licznik_czynnikow_pierwszych += 1\n",
    "            \n",
    "    \n",
    "    if licznik_czynnikow_pierwszych == 3:\n",
    "        return True\n",
    "    else:\n",
    "        return False\n",
    "\n",
    "\n",
    "plik_liczby = open(\"data/liczby.txt\", \"r\") # otwiera plik liczby w trybie do odczytu\n",
    "plik_wyniki = open(\"data/wyniki.txt\", \"w\") # otwiera plik wyniki w trybie do zapisu\n",
    "\n",
    "liczby = plik_liczby.readlines() # odczytuje liczby z pliku i zapsuje je do listy jako zmienne tekstowe\n",
    "for liczba in liczby:\n",
    "    n = int(liczba) # konwertuje wartość liczba na zmienną typu int\n",
    "    if czySpelniaWarunekZadania(n, True):\n",
    "        plik_wyniki.write(\"{}\\n\".format(n)) # zapisuje liczbę do pliku wyniki oraz dodaje nową linię\n",
    "\n",
    "plik_wyniki.close() # zamyka plik wyniki\n",
    "plik_liczby.close() # zamyka plik liczby"
   ]
  }
 ],
 "metadata": {
  "kernelspec": {
   "display_name": "Python 3",
   "language": "python",
   "name": "python3"
  },
  "language_info": {
   "codemirror_mode": {
    "name": "ipython",
    "version": 3
   },
   "file_extension": ".py",
   "mimetype": "text/x-python",
   "name": "python",
   "nbconvert_exporter": "python",
   "pygments_lexer": "ipython3",
   "version": "3.8.2"
  }
 },
 "nbformat": 4,
 "nbformat_minor": 4
}
